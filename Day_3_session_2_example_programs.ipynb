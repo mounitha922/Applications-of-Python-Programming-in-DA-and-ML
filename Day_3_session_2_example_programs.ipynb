{
  "nbformat": 4,
  "nbformat_minor": 0,
  "metadata": {
    "colab": {
      "name": "Day 3 session 2 example programs.ipynb",
      "provenance": [],
      "collapsed_sections": [],
      "authorship_tag": "ABX9TyMIJUSAl78Oh6m4jhyGq/Mw",
      "include_colab_link": true
    },
    "kernelspec": {
      "name": "python3",
      "display_name": "Python 3"
    }
  },
  "cells": [
    {
      "cell_type": "markdown",
      "metadata": {
        "id": "view-in-github",
        "colab_type": "text"
      },
      "source": [
        "<a href=\"https://colab.research.google.com/github/pavana-p-kulal/Applications-of-Python-Programming-in-DA-and-ML/blob/master/Day_3_session_2_example_programs.ipynb\" target=\"_parent\"><img src=\"https://colab.research.google.com/assets/colab-badge.svg\" alt=\"Open In Colab\"/></a>"
      ]
    },
    {
      "cell_type": "markdown",
      "metadata": {
        "id": "BxbaowUcDWoB",
        "colab_type": "text"
      },
      "source": [
        "Write a Pandas program to create and display a one-dimensional array using series  containing  even numbers upto 10"
      ]
    },
    {
      "cell_type": "code",
      "metadata": {
        "id": "u8vUdTIADYC7",
        "colab_type": "code",
        "colab": {}
      },
      "source": [
        ""
      ],
      "execution_count": null,
      "outputs": []
    },
    {
      "cell_type": "code",
      "metadata": {
        "id": "DnpMYnIkDcNk",
        "colab_type": "code",
        "colab": {
          "base_uri": "https://localhost:8080/",
          "height": 119
        },
        "outputId": "13226e19-56eb-445c-d64c-1801eaea96f1"
      },
      "source": [
        "import pandas as pd\n",
        "#ds = pd.Series([2, 4, 6, 8..... 10]) \n",
        "print(ds)\n"
      ],
      "execution_count": 5,
      "outputs": [
        {
          "output_type": "stream",
          "text": [
            "0    2.000000\n",
            "1    1.333333\n",
            "2    1.200000\n",
            "3    1.142857\n",
            "4    1.111111\n",
            "dtype: float64\n"
          ],
          "name": "stdout"
        }
      ]
    },
    {
      "cell_type": "markdown",
      "metadata": {
        "id": "NLnuOlunDiQJ",
        "colab_type": "text"
      },
      "source": [
        "Write a Pandas program to convert a Panda module Series to Python list and its type."
      ]
    },
    {
      "cell_type": "code",
      "metadata": {
        "id": "cpgU3xjWDnQ2",
        "colab_type": "code",
        "colab": {
          "base_uri": "https://localhost:8080/",
          "height": 204
        },
        "outputId": "c8623da8-c2b8-45c5-e71c-782712ed1757"
      },
      "source": [
        "import pandas as pd\n",
        "ds = pd.Series([2, 4, 6, 8, 10])\n",
        "print(\"Pandas Series and type\")\n",
        "print(ds)\n",
        "print(type(ds))\n",
        "print(\"Convert Pandas Series to Python list\")\n",
        "print(ds.tolist())\n",
        "print(type(ds.tolist()))\n"
      ],
      "execution_count": 2,
      "outputs": [
        {
          "output_type": "stream",
          "text": [
            "Pandas Series and type\n",
            "0     2\n",
            "1     4\n",
            "2     6\n",
            "3     8\n",
            "4    10\n",
            "dtype: int64\n",
            "<class 'pandas.core.series.Series'>\n",
            "Convert Pandas Series to Python list\n",
            "[2, 4, 6, 8, 10]\n",
            "<class 'list'>\n"
          ],
          "name": "stdout"
        }
      ]
    },
    {
      "cell_type": "code",
      "metadata": {
        "id": "gvCoGxwYDsBx",
        "colab_type": "code",
        "colab": {}
      },
      "source": [
        ""
      ],
      "execution_count": null,
      "outputs": []
    },
    {
      "cell_type": "markdown",
      "metadata": {
        "id": "Ywuu7GRCDyFm",
        "colab_type": "text"
      },
      "source": [
        "Write a Pandas program to add, subtract, multiple and divide two Pandas Series.\n",
        "Sample Series: [2, 4, 6, 8, 10], [1, 3, 5, 7, 9]\n"
      ]
    },
    {
      "cell_type": "code",
      "metadata": {
        "id": "vaf1_mmfD1kk",
        "colab_type": "code",
        "colab": {}
      },
      "source": [
        ""
      ],
      "execution_count": null,
      "outputs": []
    },
    {
      "cell_type": "code",
      "metadata": {
        "id": "cXeenOFOD2Ui",
        "colab_type": "code",
        "colab": {
          "base_uri": "https://localhost:8080/",
          "height": 493
        },
        "outputId": "0c0360c8-6ca3-4e5b-8263-f28e54f7b370"
      },
      "source": [
        "import pandas as pd\n",
        "ds1 = pd.Series([2, 4, 6, 8, 10])\n",
        "ds2 = pd.Series([1, 3, 5, 7, 9])\n",
        "ds = ds1 + ds2\n",
        "print(\"Add two Series:\")\n",
        "print(ds)\n",
        "print(\"Subtract two Series:\")\n",
        "ds = ds1 - ds2\n",
        "print(ds)\n",
        "print(\"Multiply two Series:\")\n",
        "ds = ds1 * ds2\n",
        "print(ds)\n",
        "print(\"Divide Series1 by Series2:\")\n",
        "ds = ds1 / ds2\n",
        "print(ds)\n"
      ],
      "execution_count": 3,
      "outputs": [
        {
          "output_type": "stream",
          "text": [
            "Add two Series:\n",
            "0     3\n",
            "1     7\n",
            "2    11\n",
            "3    15\n",
            "4    19\n",
            "dtype: int64\n",
            "Subtract two Series:\n",
            "0    1\n",
            "1    1\n",
            "2    1\n",
            "3    1\n",
            "4    1\n",
            "dtype: int64\n",
            "Multiply two Series:\n",
            "0     2\n",
            "1    12\n",
            "2    30\n",
            "3    56\n",
            "4    90\n",
            "dtype: int64\n",
            "Divide Series1 by Series2:\n",
            "0    2.000000\n",
            "1    1.333333\n",
            "2    1.200000\n",
            "3    1.142857\n",
            "4    1.111111\n",
            "dtype: float64\n"
          ],
          "name": "stdout"
        }
      ]
    },
    {
      "cell_type": "code",
      "metadata": {
        "id": "bgstdXblD8m3",
        "colab_type": "code",
        "colab": {}
      },
      "source": [
        ""
      ],
      "execution_count": null,
      "outputs": []
    },
    {
      "cell_type": "markdown",
      "metadata": {
        "id": "L9fI2KxHETDl",
        "colab_type": "text"
      },
      "source": [
        "#Write a Pandas program to compare the elements of the two Pandas Series.\n",
        "#Sample Series: [2, 4, 6, 8, 10], [1, 3, 5, 7, 9]\n"
      ]
    },
    {
      "cell_type": "code",
      "metadata": {
        "id": "uGI7MHOOEX-x",
        "colab_type": "code",
        "colab": {}
      },
      "source": [
        ""
      ],
      "execution_count": null,
      "outputs": []
    },
    {
      "cell_type": "code",
      "metadata": {
        "id": "F8NzDfy8EY16",
        "colab_type": "code",
        "colab": {
          "base_uri": "https://localhost:8080/",
          "height": 629
        },
        "outputId": "335ea9f2-6cea-4d0e-ce66-7505857dd389"
      },
      "source": [
        "import pandas as pd\n",
        "ds1 = pd.Series([2, 4, 6, 8, 10])\n",
        "ds2 = pd.Series([1, 3, 5, 7, 10])\n",
        "print(\"Series1:\")\n",
        "print(ds1)\n",
        "print(\"Series2:\")\n",
        "print(ds2)\n",
        "print(\"Compare the elements of the said Series:\")\n",
        "print(\"Equals:\")\n",
        "print(ds1 == ds2)\n",
        "print(\"Greater than:\")\n",
        "print(ds1 > ds2)\n",
        "print(\"Less than:\")\n",
        "print(ds1 < ds2)\n"
      ],
      "execution_count": 6,
      "outputs": [
        {
          "output_type": "stream",
          "text": [
            "Series1:\n",
            "0     2\n",
            "1     4\n",
            "2     6\n",
            "3     8\n",
            "4    10\n",
            "dtype: int64\n",
            "Series2:\n",
            "0     1\n",
            "1     3\n",
            "2     5\n",
            "3     7\n",
            "4    10\n",
            "dtype: int64\n",
            "Compare the elements of the said Series:\n",
            "Equals:\n",
            "0    False\n",
            "1    False\n",
            "2    False\n",
            "3    False\n",
            "4     True\n",
            "dtype: bool\n",
            "Greater than:\n",
            "0     True\n",
            "1     True\n",
            "2     True\n",
            "3     True\n",
            "4    False\n",
            "dtype: bool\n",
            "Less than:\n",
            "0    False\n",
            "1    False\n",
            "2    False\n",
            "3    False\n",
            "4    False\n",
            "dtype: bool\n"
          ],
          "name": "stdout"
        }
      ]
    },
    {
      "cell_type": "code",
      "metadata": {
        "id": "fWsYXo-5EeDS",
        "colab_type": "code",
        "colab": {}
      },
      "source": [
        ""
      ],
      "execution_count": null,
      "outputs": []
    },
    {
      "cell_type": "markdown",
      "metadata": {
        "id": "GAddypprEf-n",
        "colab_type": "text"
      },
      "source": [
        "Write a Pandas program to convert a dictionary to a Pandas series.\n",
        "#Sample dictionary: d1 = {'a': 100, 'b': 200, 'c':300, 'd':400, 'e':800}\n"
      ]
    },
    {
      "cell_type": "code",
      "metadata": {
        "id": "d-2xgD4qElLd",
        "colab_type": "code",
        "colab": {}
      },
      "source": [
        ""
      ],
      "execution_count": null,
      "outputs": []
    },
    {
      "cell_type": "code",
      "metadata": {
        "id": "qgqz6KldEmJ8",
        "colab_type": "code",
        "colab": {
          "base_uri": "https://localhost:8080/",
          "height": 170
        },
        "outputId": "633c0f14-5c3a-4088-ae87-d3a2558f28c2"
      },
      "source": [
        "import pandas as pd\n",
        "d1 = {'a': 100, 'b': 200, 'c':300, 'd':400, 'e':800}\n",
        "print(\"Original dictionary:\")\n",
        "print(d1)\n",
        "new_series = pd.Series(d1)\n",
        "print(\"Converted series:\")\n",
        "print(new_series)\n"
      ],
      "execution_count": 7,
      "outputs": [
        {
          "output_type": "stream",
          "text": [
            "Original dictionary:\n",
            "{'a': 100, 'b': 200, 'c': 300, 'd': 400, 'e': 800}\n",
            "Converted series:\n",
            "a    100\n",
            "b    200\n",
            "c    300\n",
            "d    400\n",
            "e    800\n",
            "dtype: int64\n"
          ],
          "name": "stdout"
        }
      ]
    },
    {
      "cell_type": "code",
      "metadata": {
        "id": "bNQaTikxEone",
        "colab_type": "code",
        "colab": {}
      },
      "source": [
        ""
      ],
      "execution_count": null,
      "outputs": []
    },
    {
      "cell_type": "markdown",
      "metadata": {
        "id": "9JErqX-_EqQB",
        "colab_type": "text"
      },
      "source": [
        "Write a Pandas program to convert a NumPy array to a Pandas series.\n",
        "#Sample NumPy array: d1 = [10, 20, 30, 40, 50]\n"
      ]
    },
    {
      "cell_type": "code",
      "metadata": {
        "id": "chRg9EIUEuc6",
        "colab_type": "code",
        "colab": {}
      },
      "source": [
        ""
      ],
      "execution_count": null,
      "outputs": []
    },
    {
      "cell_type": "code",
      "metadata": {
        "id": "z-JJl2-cE9yu",
        "colab_type": "code",
        "colab": {
          "base_uri": "https://localhost:8080/",
          "height": 170
        },
        "outputId": "0e91d694-c2cc-4f55-ac6d-3de21274335f"
      },
      "source": [
        "import numpy as np\n",
        "import pandas as pd\n",
        "np_array = np.array([10, 20, 30, 40, 50])\n",
        "print(\"NumPy array:\")\n",
        "print(np_array)\n",
        "new_series = pd.Series(np_array)\n",
        "print(\"Converted Pandas series:\")\n",
        "print(new_series)\n"
      ],
      "execution_count": 8,
      "outputs": [
        {
          "output_type": "stream",
          "text": [
            "NumPy array:\n",
            "[10 20 30 40 50]\n",
            "Converted Pandas series:\n",
            "0    10\n",
            "1    20\n",
            "2    30\n",
            "3    40\n",
            "4    50\n",
            "dtype: int64\n"
          ],
          "name": "stdout"
        }
      ]
    },
    {
      "cell_type": "code",
      "metadata": {
        "id": "Z1luAA6MFBhO",
        "colab_type": "code",
        "colab": {}
      },
      "source": [
        ""
      ],
      "execution_count": null,
      "outputs": []
    },
    {
      "cell_type": "markdown",
      "metadata": {
        "id": "dxbEYgCYFDbF",
        "colab_type": "text"
      },
      "source": [
        "#Write a Pandas program to change the data type of the given  Series into numeric\n",
        "#['100', '200', 'python', '300.12', '400']\n",
        "\n"
      ]
    },
    {
      "cell_type": "code",
      "metadata": {
        "id": "LxB49zzZFGmb",
        "colab_type": "code",
        "colab": {}
      },
      "source": [
        ""
      ],
      "execution_count": null,
      "outputs": []
    },
    {
      "cell_type": "code",
      "metadata": {
        "id": "7KgDDtVsFHYL",
        "colab_type": "code",
        "colab": {
          "base_uri": "https://localhost:8080/",
          "height": 255
        },
        "outputId": "9ad962e7-1e12-46e5-cbed-e6fa2be8d646"
      },
      "source": [
        "import pandas as pd\n",
        "s1 = pd.Series(['100', '200', 'python', '300.12', '400a'])\n",
        "print(\"Original Data Series:\")\n",
        "print(s1)\n",
        "print(\"Change the said data type to numeric:\")\n",
        "s2 = pd.to_numeric(s1, errors='coerce')\n",
        "print(s2)\n"
      ],
      "execution_count": 9,
      "outputs": [
        {
          "output_type": "stream",
          "text": [
            "Original Data Series:\n",
            "0       100\n",
            "1       200\n",
            "2    python\n",
            "3    300.12\n",
            "4      400a\n",
            "dtype: object\n",
            "Change the said data type to numeric:\n",
            "0    100.00\n",
            "1    200.00\n",
            "2       NaN\n",
            "3    300.12\n",
            "4       NaN\n",
            "dtype: float64\n"
          ],
          "name": "stdout"
        }
      ]
    },
    {
      "cell_type": "code",
      "metadata": {
        "id": "c5MPsJI8FKoq",
        "colab_type": "code",
        "colab": {}
      },
      "source": [
        ""
      ],
      "execution_count": null,
      "outputs": []
    },
    {
      "cell_type": "markdown",
      "metadata": {
        "id": "Ll8L1VshFMes",
        "colab_type": "text"
      },
      "source": [
        "Write a Pandas program to convert a given Series to an array."
      ]
    },
    {
      "cell_type": "code",
      "metadata": {
        "id": "ya7hysiJFP9O",
        "colab_type": "code",
        "colab": {}
      },
      "source": [
        ""
      ],
      "execution_count": null,
      "outputs": []
    },
    {
      "cell_type": "code",
      "metadata": {
        "id": "QQKsjwm1FQww",
        "colab_type": "code",
        "colab": {
          "base_uri": "https://localhost:8080/",
          "height": 170
        },
        "outputId": "f6c78a00-a6d9-4ea8-ec85-80ce17f7c6e3"
      },
      "source": [
        "import numpy as np\n",
        "s1 = pd.Series(['100', '200', 'python', '300.12', '400'])\n",
        "print(\"Original Data Series:\")\n",
        "print(s1)\n",
        "print(\"Series to an array\")\n",
        "a = np.array(s1.values.tolist())\n",
        "print (a)\n"
      ],
      "execution_count": 10,
      "outputs": [
        {
          "output_type": "stream",
          "text": [
            "Original Data Series:\n",
            "0       100\n",
            "1       200\n",
            "2    python\n",
            "3    300.12\n",
            "4       400\n",
            "dtype: object\n",
            "Series to an array\n",
            "['100' '200' 'python' '300.12' '400']\n"
          ],
          "name": "stdout"
        }
      ]
    },
    {
      "cell_type": "code",
      "metadata": {
        "id": "DDisy3r0FU49",
        "colab_type": "code",
        "colab": {}
      },
      "source": [
        ""
      ],
      "execution_count": null,
      "outputs": []
    },
    {
      "cell_type": "markdown",
      "metadata": {
        "id": "CmMdpFNjFW_3",
        "colab_type": "text"
      },
      "source": [
        "Write a Pandas program to sort a given Series."
      ]
    },
    {
      "cell_type": "code",
      "metadata": {
        "id": "7egsVt-RFbCp",
        "colab_type": "code",
        "colab": {}
      },
      "source": [
        ""
      ],
      "execution_count": null,
      "outputs": []
    },
    {
      "cell_type": "code",
      "metadata": {
        "id": "ZfHOMZWRFcaD",
        "colab_type": "code",
        "colab": {
          "base_uri": "https://localhost:8080/",
          "height": 238
        },
        "outputId": "4c672bd1-7c67-4e96-9667-2335f211e013"
      },
      "source": [
        "import pandas as pd\n",
        "s = pd.Series(['200','100','python', '300.12', '400'])\n",
        "print(\"Original Data Series:\")\n",
        "print(s)\n",
        "new_s = pd.Series(s).sort_values()\n",
        "print(new_s)\n",
        "\n"
      ],
      "execution_count": 12,
      "outputs": [
        {
          "output_type": "stream",
          "text": [
            "Original Data Series:\n",
            "0       200\n",
            "1       100\n",
            "2    python\n",
            "3    300.12\n",
            "4       400\n",
            "dtype: object\n",
            "1       100\n",
            "0       200\n",
            "3    300.12\n",
            "4       400\n",
            "2    python\n",
            "dtype: object\n"
          ],
          "name": "stdout"
        }
      ]
    },
    {
      "cell_type": "code",
      "metadata": {
        "id": "kAZoDp4qFe27",
        "colab_type": "code",
        "colab": {}
      },
      "source": [
        ""
      ],
      "execution_count": null,
      "outputs": []
    },
    {
      "cell_type": "markdown",
      "metadata": {
        "id": "wu1ZHG-EFjxC",
        "colab_type": "text"
      },
      "source": [
        "#Write a Pandas program to add some data to an existing Series."
      ]
    },
    {
      "cell_type": "code",
      "metadata": {
        "id": "hAK-CLDnFpw4",
        "colab_type": "code",
        "colab": {}
      },
      "source": [
        ""
      ],
      "execution_count": null,
      "outputs": []
    },
    {
      "cell_type": "code",
      "metadata": {
        "id": "4rpULi_rFqUu",
        "colab_type": "code",
        "colab": {
          "base_uri": "https://localhost:8080/",
          "height": 306
        },
        "outputId": "b41b4ec5-bcbf-4617-e7f7-fb324b3afb96"
      },
      "source": [
        "import pandas as pd\n",
        "s = pd.Series(['100', '200', 'python', '300.12', '400'])\n",
        "print(\"Original Data Series:\")\n",
        "print(s)\n",
        "print(\"\\nData Series after adding some data:\")\n",
        "new_s = s.append(pd.Series(['500', 'php']))\n",
        "print(new_s)\n"
      ],
      "execution_count": 13,
      "outputs": [
        {
          "output_type": "stream",
          "text": [
            "Original Data Series:\n",
            "0       100\n",
            "1       200\n",
            "2    python\n",
            "3    300.12\n",
            "4       400\n",
            "dtype: object\n",
            "\n",
            "Data Series after adding some data:\n",
            "0       100\n",
            "1       200\n",
            "2    python\n",
            "3    300.12\n",
            "4       400\n",
            "0       500\n",
            "1       php\n",
            "dtype: object\n"
          ],
          "name": "stdout"
        }
      ]
    },
    {
      "cell_type": "code",
      "metadata": {
        "id": "dKACrMxKFs07",
        "colab_type": "code",
        "colab": {}
      },
      "source": [
        ""
      ],
      "execution_count": null,
      "outputs": []
    },
    {
      "cell_type": "markdown",
      "metadata": {
        "id": "Nl7LJy46FuYC",
        "colab_type": "text"
      },
      "source": [
        "#Write a Pandas program to create a subset of a given series based on value and condition."
      ]
    },
    {
      "cell_type": "code",
      "metadata": {
        "id": "bbV-2g14FzOk",
        "colab_type": "code",
        "colab": {}
      },
      "source": [
        ""
      ],
      "execution_count": null,
      "outputs": []
    },
    {
      "cell_type": "code",
      "metadata": {
        "id": "4lVoCncEF0zh",
        "colab_type": "code",
        "colab": {
          "base_uri": "https://localhost:8080/",
          "height": 357
        },
        "outputId": "2902b77d-077b-49fb-a05a-12ddcc6a63a0"
      },
      "source": [
        "import pandas as pd\n",
        "s = pd.Series([0, 1,2,3,4,5,6,7,8,9,10])\n",
        "print(\"Original Data Series:\")\n",
        "print(s)\n",
        "print(\"\\nSubset of the above Data Series:\")\n",
        "n = 6\n",
        "new_s = s[s >n]\n",
        "print(new_s)\n"
      ],
      "execution_count": 14,
      "outputs": [
        {
          "output_type": "stream",
          "text": [
            "Original Data Series:\n",
            "0      0\n",
            "1      1\n",
            "2      2\n",
            "3      3\n",
            "4      4\n",
            "5      5\n",
            "6      6\n",
            "7      7\n",
            "8      8\n",
            "9      9\n",
            "10    10\n",
            "dtype: int64\n",
            "\n",
            "Subset of the above Data Series:\n",
            "7      7\n",
            "8      8\n",
            "9      9\n",
            "10    10\n",
            "dtype: int64\n"
          ],
          "name": "stdout"
        }
      ]
    },
    {
      "cell_type": "code",
      "metadata": {
        "id": "bhpQBdtCF3NF",
        "colab_type": "code",
        "colab": {}
      },
      "source": [
        ""
      ],
      "execution_count": null,
      "outputs": []
    },
    {
      "cell_type": "markdown",
      "metadata": {
        "id": "xZf1AW8fF5CN",
        "colab_type": "text"
      },
      "source": [
        "Write a Pandas program to change the order of index of a given series."
      ]
    },
    {
      "cell_type": "code",
      "metadata": {
        "id": "0IX4OhqRF8u8",
        "colab_type": "code",
        "colab": {}
      },
      "source": [
        ""
      ],
      "execution_count": null,
      "outputs": []
    },
    {
      "cell_type": "code",
      "metadata": {
        "id": "oO-qa3DwF9Wz",
        "colab_type": "code",
        "colab": {
          "base_uri": "https://localhost:8080/",
          "height": 255
        },
        "outputId": "f0d4e8d4-f8b9-44e2-988b-b9688fb510f6"
      },
      "source": [
        "import pandas as pd\n",
        "s = pd.Series(data = [1,2,3,4,5], index = ['A', 'B', 'C','D','E'])\n",
        "print(\"Original Data Series:\")\n",
        "print(s)\n",
        "s = s.reindex(index = ['B','A','C','D','E'])\n",
        "print(\"Data Series after changing the order of index:\")\n",
        "print(s)\n"
      ],
      "execution_count": 15,
      "outputs": [
        {
          "output_type": "stream",
          "text": [
            "Original Data Series:\n",
            "A    1\n",
            "B    2\n",
            "C    3\n",
            "D    4\n",
            "E    5\n",
            "dtype: int64\n",
            "Data Series after changing the order of index:\n",
            "B    2\n",
            "A    1\n",
            "C    3\n",
            "D    4\n",
            "E    5\n",
            "dtype: int64\n"
          ],
          "name": "stdout"
        }
      ]
    },
    {
      "cell_type": "markdown",
      "metadata": {
        "id": "rCSYRIy7GC0c",
        "colab_type": "text"
      },
      "source": [
        "Write a Pandas program to create the mean and standard deviation, maximum and minimum of the data of a given Series.\n",
        "\n"
      ]
    },
    {
      "cell_type": "code",
      "metadata": {
        "id": "cqBWCZkyGAeK",
        "colab_type": "code",
        "colab": {}
      },
      "source": [
        ""
      ],
      "execution_count": null,
      "outputs": []
    },
    {
      "cell_type": "code",
      "metadata": {
        "id": "pjptNtnWGGWB",
        "colab_type": "code",
        "colab": {
          "base_uri": "https://localhost:8080/",
          "height": 306
        },
        "outputId": "2602aa1f-db2d-45ae-c590-a0ebcddc1f71"
      },
      "source": [
        "import pandas as pd\n",
        "s = pd.Series(data = [1,2,3,4,5,6,7,8,9,5,3])\n",
        "print(\"Original Data Series:\")\n",
        "print(s)\n",
        "print(\"Mean of the said Data Series:\")\n",
        "print(s.mean())\n",
        "print(\"Standard deviation of the said Data Series:\")\n",
        "print(s.std())\n"
      ],
      "execution_count": 16,
      "outputs": [
        {
          "output_type": "stream",
          "text": [
            "Original Data Series:\n",
            "0     1\n",
            "1     2\n",
            "2     3\n",
            "3     4\n",
            "4     5\n",
            "5     6\n",
            "6     7\n",
            "7     8\n",
            "8     9\n",
            "9     5\n",
            "10    3\n",
            "dtype: int64\n",
            "Mean of the said Data Series:\n",
            "4.818181818181818\n",
            "Standard deviation of the said Data Series:\n",
            "2.522624895547565\n"
          ],
          "name": "stdout"
        }
      ]
    },
    {
      "cell_type": "markdown",
      "metadata": {
        "id": "aKzuUwRmGNpt",
        "colab_type": "text"
      },
      "source": [
        "\n",
        "#Write a Pandas program to get the elements of an array values into column-wise.\n",
        "#Sample data: {‘X’:[78,85,96,80,86], 'Y':[84,94,89,83,86],'Z':[86,97,96,72,83]}\n"
      ]
    },
    {
      "cell_type": "code",
      "metadata": {
        "id": "JO5PD_XSGL9c",
        "colab_type": "code",
        "colab": {}
      },
      "source": [
        ""
      ],
      "execution_count": null,
      "outputs": []
    },
    {
      "cell_type": "code",
      "metadata": {
        "id": "kYKkaKfOGT1K",
        "colab_type": "code",
        "colab": {
          "base_uri": "https://localhost:8080/",
          "height": 119
        },
        "outputId": "edc2dbb2-1423-4174-958e-8bb132471b3f"
      },
      "source": [
        "import pandas as pd\n",
        "df = pd.DataFrame({'X':[78,85,96,80,86], 'Y':[84,94,89,83,86],'Z':[86,97,96,72,83]});\n",
        "print(df)\n"
      ],
      "execution_count": 17,
      "outputs": [
        {
          "output_type": "stream",
          "text": [
            "    X   Y   Z\n",
            "0  78  84  86\n",
            "1  85  94  97\n",
            "2  96  89  96\n",
            "3  80  83  72\n",
            "4  86  86  83\n"
          ],
          "name": "stdout"
        }
      ]
    },
    {
      "cell_type": "code",
      "metadata": {
        "id": "6U4Ark5gGWQY",
        "colab_type": "code",
        "colab": {}
      },
      "source": [
        ""
      ],
      "execution_count": null,
      "outputs": []
    },
    {
      "cell_type": "code",
      "metadata": {
        "id": "NbxyVpCkGcpx",
        "colab_type": "code",
        "colab": {}
      },
      "source": [
        ""
      ],
      "execution_count": null,
      "outputs": []
    },
    {
      "cell_type": "markdown",
      "metadata": {
        "id": "1JvsHwrHJxbc",
        "colab_type": "text"
      },
      "source": [
        "Write a NumPy program to generate five random numbers from the normal distribution."
      ]
    },
    {
      "cell_type": "code",
      "metadata": {
        "id": "y0yBh89HJzmH",
        "colab_type": "code",
        "colab": {}
      },
      "source": [
        ""
      ],
      "execution_count": null,
      "outputs": []
    },
    {
      "cell_type": "code",
      "metadata": {
        "id": "pfPPOtbYJ0Pl",
        "colab_type": "code",
        "colab": {
          "base_uri": "https://localhost:8080/",
          "height": 34
        },
        "outputId": "52b78269-59a2-44a6-86fc-17c844c27c4a"
      },
      "source": [
        "import numpy as np\n",
        "x = np.random.normal(size=5)\n",
        "print(x)\n"
      ],
      "execution_count": 21,
      "outputs": [
        {
          "output_type": "stream",
          "text": [
            "[-1.28038091 -0.45304433  0.83524848 -2.30641628  1.88975303]\n"
          ],
          "name": "stdout"
        }
      ]
    },
    {
      "cell_type": "code",
      "metadata": {
        "id": "APvgYRGIJ3Xh",
        "colab_type": "code",
        "colab": {}
      },
      "source": [
        ""
      ],
      "execution_count": null,
      "outputs": []
    },
    {
      "cell_type": "markdown",
      "metadata": {
        "id": "BgNt4BceJ5UQ",
        "colab_type": "text"
      },
      "source": [
        "Write a NumPy program to generate six random integers between 10 and 30"
      ]
    },
    {
      "cell_type": "code",
      "metadata": {
        "id": "2wuLT5jMKDMf",
        "colab_type": "code",
        "colab": {}
      },
      "source": [
        ""
      ],
      "execution_count": null,
      "outputs": []
    },
    {
      "cell_type": "code",
      "metadata": {
        "id": "rnixXf_EKD1Y",
        "colab_type": "code",
        "colab": {
          "base_uri": "https://localhost:8080/",
          "height": 34
        },
        "outputId": "16fdc2b0-f7e9-4e0d-9ecc-d4d315635412"
      },
      "source": [
        "import numpy as np\n",
        "x = np.random.randint(low=10, high=30, size=6)\n",
        "print(x)\n"
      ],
      "execution_count": 22,
      "outputs": [
        {
          "output_type": "stream",
          "text": [
            "[29 14 23 16 16 11]\n"
          ],
          "name": "stdout"
        }
      ]
    },
    {
      "cell_type": "code",
      "metadata": {
        "id": "iX5EMSBoKF8A",
        "colab_type": "code",
        "colab": {}
      },
      "source": [
        ""
      ],
      "execution_count": null,
      "outputs": []
    },
    {
      "cell_type": "markdown",
      "metadata": {
        "id": "QXNzyqUQKKtN",
        "colab_type": "text"
      },
      "source": [
        "Write a NumPy program to create a 3x3x3 array with random values"
      ]
    },
    {
      "cell_type": "code",
      "metadata": {
        "id": "dKknaCWfKPXS",
        "colab_type": "code",
        "colab": {}
      },
      "source": [
        ""
      ],
      "execution_count": null,
      "outputs": []
    },
    {
      "cell_type": "code",
      "metadata": {
        "id": "drT3rZWPKQMN",
        "colab_type": "code",
        "colab": {
          "base_uri": "https://localhost:8080/",
          "height": 204
        },
        "outputId": "d7d1c925-e9ff-467c-ae3e-bb4417175f84"
      },
      "source": [
        "import numpy as np\n",
        "x = np.random.random((3,3,3))\n",
        "print(x)\n"
      ],
      "execution_count": 23,
      "outputs": [
        {
          "output_type": "stream",
          "text": [
            "[[[0.51617269 0.37160302 0.02571586]\n",
            "  [0.84995454 0.21828315 0.6183755 ]\n",
            "  [0.95382175 0.72838787 0.3847637 ]]\n",
            "\n",
            " [[0.05965184 0.46480232 0.19377026]\n",
            "  [0.00241625 0.1510388  0.87684015]\n",
            "  [0.01696047 0.9574018  0.19357607]]\n",
            "\n",
            " [[0.66574202 0.92511844 0.30857935]\n",
            "  [0.24528528 0.1577344  0.47604736]\n",
            "  [0.29287134 0.34864999 0.98798393]]]\n"
          ],
          "name": "stdout"
        }
      ]
    },
    {
      "cell_type": "code",
      "metadata": {
        "id": "PH98HhtIKSV6",
        "colab_type": "code",
        "colab": {}
      },
      "source": [
        ""
      ],
      "execution_count": null,
      "outputs": []
    },
    {
      "cell_type": "markdown",
      "metadata": {
        "id": "8PyrqJK7KUwW",
        "colab_type": "text"
      },
      "source": [
        "Write a NumPy program to create a 5x5 array with random values and find the minimum #and maximum values.\n",
        "\n"
      ]
    },
    {
      "cell_type": "code",
      "metadata": {
        "id": "WGLIJHUNLH9M",
        "colab_type": "code",
        "colab": {}
      },
      "source": [
        ""
      ],
      "execution_count": null,
      "outputs": []
    },
    {
      "cell_type": "code",
      "metadata": {
        "id": "oqdly_5MLIxp",
        "colab_type": "code",
        "colab": {
          "base_uri": "https://localhost:8080/",
          "height": 153
        },
        "outputId": "4a361274-bc3e-4324-9b51-3351537cdd4a"
      },
      "source": [
        "import numpy as np\n",
        "x = np.random.random((5,5))\n",
        "print(\"Original Array:\")\n",
        "print(x) \n",
        "xmin, xmax = x.min(), x.max()\n",
        "print(\"Minimum and Maximum Values:\")\n",
        "print(xmin, xmax)\n"
      ],
      "execution_count": 24,
      "outputs": [
        {
          "output_type": "stream",
          "text": [
            "Original Array:\n",
            "[[0.79409656 0.19278736 0.14475327 0.12631449 0.71464359]\n",
            " [0.54627486 0.11208336 0.37240425 0.04740316 0.83518675]\n",
            " [0.71033739 0.45212891 0.80485325 0.60901922 0.81076264]\n",
            " [0.03536496 0.31570491 0.42261337 0.56777982 0.05592399]\n",
            " [0.95583871 0.7671436  0.90059903 0.44074127 0.60224394]]\n",
            "Minimum and Maximum Values:\n",
            "0.03536495589823063 0.9558387093710513\n"
          ],
          "name": "stdout"
        }
      ]
    },
    {
      "cell_type": "code",
      "metadata": {
        "id": "WWxqo23FLMoD",
        "colab_type": "code",
        "colab": {}
      },
      "source": [
        ""
      ],
      "execution_count": null,
      "outputs": []
    },
    {
      "cell_type": "markdown",
      "metadata": {
        "id": "iDzbaWn0LN8-",
        "colab_type": "text"
      },
      "source": [
        "#Write a NumPy program to create a random 10x4 array and extract the first five rows of the # array and store them into a variable."
      ]
    },
    {
      "cell_type": "code",
      "metadata": {
        "id": "fHzpJen8LSfw",
        "colab_type": "code",
        "colab": {}
      },
      "source": [
        ""
      ],
      "execution_count": null,
      "outputs": []
    },
    {
      "cell_type": "code",
      "metadata": {
        "id": "-zneslrrLTDw",
        "colab_type": "code",
        "colab": {
          "base_uri": "https://localhost:8080/",
          "height": 493
        },
        "outputId": "7b883bf6-352f-4a1c-bc8c-0d26d7ad15f8"
      },
      "source": [
        "import numpy as np\n",
        "x = np.random.rand(10, 4)\n",
        "print(\"Original array: \")\n",
        "print(x)\n",
        "y= x[:5, :]\n",
        "print(\"First 5 rows of the above array:\")\n",
        "y= x[:5, :]\n",
        "print(y)\n",
        "z= x[:, :4]\n",
        "print(\"First 3 columns of the above array:\")\n",
        "print(z)\n",
        "\n"
      ],
      "execution_count": 25,
      "outputs": [
        {
          "output_type": "stream",
          "text": [
            "Original array: \n",
            "[[0.01486549 0.25487745 0.62029076 0.98416122]\n",
            " [0.74485683 0.6626923  0.27925067 0.26531144]\n",
            " [0.11859257 0.91778291 0.63892608 0.92457873]\n",
            " [0.15281466 0.10561709 0.66127336 0.90107544]\n",
            " [0.89572839 0.23948824 0.4874379  0.48329765]\n",
            " [0.54425822 0.02600186 0.65968921 0.07134907]\n",
            " [0.34386945 0.28394834 0.78027081 0.88593917]\n",
            " [0.899821   0.28648015 0.71204639 0.783477  ]\n",
            " [0.16710573 0.68217686 0.97635512 0.6467338 ]\n",
            " [0.24277103 0.94691826 0.02674852 0.09538451]]\n",
            "First 5 rows of the above array:\n",
            "[[0.01486549 0.25487745 0.62029076 0.98416122]\n",
            " [0.74485683 0.6626923  0.27925067 0.26531144]\n",
            " [0.11859257 0.91778291 0.63892608 0.92457873]\n",
            " [0.15281466 0.10561709 0.66127336 0.90107544]\n",
            " [0.89572839 0.23948824 0.4874379  0.48329765]]\n",
            "First 3 columns of the above array:\n",
            "[[0.01486549 0.25487745 0.62029076 0.98416122]\n",
            " [0.74485683 0.6626923  0.27925067 0.26531144]\n",
            " [0.11859257 0.91778291 0.63892608 0.92457873]\n",
            " [0.15281466 0.10561709 0.66127336 0.90107544]\n",
            " [0.89572839 0.23948824 0.4874379  0.48329765]\n",
            " [0.54425822 0.02600186 0.65968921 0.07134907]\n",
            " [0.34386945 0.28394834 0.78027081 0.88593917]\n",
            " [0.899821   0.28648015 0.71204639 0.783477  ]\n",
            " [0.16710573 0.68217686 0.97635512 0.6467338 ]\n",
            " [0.24277103 0.94691826 0.02674852 0.09538451]]\n"
          ],
          "name": "stdout"
        }
      ]
    },
    {
      "cell_type": "code",
      "metadata": {
        "id": "4_mTAQlyLVg-",
        "colab_type": "code",
        "colab": {}
      },
      "source": [
        ""
      ],
      "execution_count": null,
      "outputs": []
    },
    {
      "cell_type": "markdown",
      "metadata": {
        "id": "ZmEL9oe8LW9U",
        "colab_type": "text"
      },
      "source": [
        "#Write a NumPy program to shuffle numbers and find permutation  between 0 and 10 #(inclusive)."
      ]
    },
    {
      "cell_type": "code",
      "metadata": {
        "id": "iJRQ76H1LaSk",
        "colab_type": "code",
        "colab": {
          "base_uri": "https://localhost:8080/",
          "height": 68
        },
        "outputId": "6f5b7225-eaa0-4e8a-b913-f61a8eb5d50d"
      },
      "source": [
        "import numpy as np\n",
        "x = np.arange(10)\n",
        "np.random.shuffle(x)\n",
        "print(x)\n",
        "print(\"Same result using permutation():\")\n",
        "print(np.random.permutation(10))\n"
      ],
      "execution_count": 26,
      "outputs": [
        {
          "output_type": "stream",
          "text": [
            "[1 6 4 7 5 2 3 9 0 8]\n",
            "Same result using permutation():\n",
            "[1 5 3 0 6 7 2 9 4 8]\n"
          ],
          "name": "stdout"
        }
      ]
    },
    {
      "cell_type": "markdown",
      "metadata": {
        "id": "NE1NQAzfLdyG",
        "colab_type": "text"
      },
      "source": [
        "Write a NumPy program to create a random integer nos of size 10 and sort it."
      ]
    },
    {
      "cell_type": "code",
      "metadata": {
        "id": "h54LN4AoLZ0L",
        "colab_type": "code",
        "colab": {}
      },
      "source": [
        ""
      ],
      "execution_count": null,
      "outputs": []
    },
    {
      "cell_type": "code",
      "metadata": {
        "id": "Q6JrlcR9LkAy",
        "colab_type": "code",
        "colab": {
          "base_uri": "https://localhost:8080/",
          "height": 34
        },
        "outputId": "93a72efb-82eb-495d-973a-a6ae40534922"
      },
      "source": [
        "import numpy as np\n",
        "x=np.arange(10)\n",
        "np.random.randint(10)\n",
        "print (x)\n"
      ],
      "execution_count": 34,
      "outputs": [
        {
          "output_type": "stream",
          "text": [
            "[0 1 2 3 4 5 6 7 8 9]\n"
          ],
          "name": "stdout"
        }
      ]
    },
    {
      "cell_type": "code",
      "metadata": {
        "id": "cQdLmv1GLmU-",
        "colab_type": "code",
        "colab": {}
      },
      "source": [
        ""
      ],
      "execution_count": null,
      "outputs": []
    },
    {
      "cell_type": "markdown",
      "metadata": {
        "id": "7IVLlD5wT3Vi",
        "colab_type": "text"
      },
      "source": [
        "Write a NumPy program to create a random integer nos of size 10 and sort it."
      ]
    },
    {
      "cell_type": "code",
      "metadata": {
        "id": "U87r5KFST7eG",
        "colab_type": "code",
        "colab": {
          "base_uri": "https://localhost:8080/",
          "height": 51
        },
        "outputId": "9cdcfd19-d3d8-417a-dcb2-9f2fc0a59ffb"
      },
      "source": [
        "import numpy as np\n",
        "x=np.arange(10)\n",
        "np.random.shuffle(x)\n",
        "print(x)\n",
        "x.sort()\n",
        "print(x)\n",
        "\n"
      ],
      "execution_count": 31,
      "outputs": [
        {
          "output_type": "stream",
          "text": [
            "[7 9 3 1 0 5 4 6 8 2]\n",
            "[0 1 2 3 4 5 6 7 8 9]\n"
          ],
          "name": "stdout"
        }
      ]
    },
    {
      "cell_type": "code",
      "metadata": {
        "id": "mMWKgorwUAt_",
        "colab_type": "code",
        "colab": {}
      },
      "source": [
        ""
      ],
      "execution_count": null,
      "outputs": []
    },
    {
      "cell_type": "code",
      "metadata": {
        "id": "Wlo1tfx_VC1f",
        "colab_type": "code",
        "colab": {}
      },
      "source": [
        ""
      ],
      "execution_count": null,
      "outputs": []
    },
    {
      "cell_type": "code",
      "metadata": {
        "id": "y_tQ3RRNVkdI",
        "colab_type": "code",
        "colab": {}
      },
      "source": [
        ""
      ],
      "execution_count": null,
      "outputs": []
    }
  ]
}