{
  "nbformat": 4,
  "nbformat_minor": 0,
  "metadata": {
    "colab": {
      "name": "Day 4 session 1 data cleaning using pandas and numpy example programs.ipynb",
      "provenance": [],
      "authorship_tag": "ABX9TyM1atdw0KAsKvuZD8n7J2GN",
      "include_colab_link": true
    },
    "kernelspec": {
      "name": "python3",
      "display_name": "Python 3"
    }
  },
  "cells": [
    {
      "cell_type": "markdown",
      "metadata": {
        "id": "view-in-github",
        "colab_type": "text"
      },
      "source": [
        "<a href=\"https://colab.research.google.com/github/pavana-p-kulal/Applications-of-Python-Programming-in-DA-and-ML/blob/master/Day_4_session_1_data_cleaning_using_pandas_and_numpy_example_programs.ipynb\" target=\"_parent\"><img src=\"https://colab.research.google.com/assets/colab-badge.svg\" alt=\"Open In Colab\"/></a>"
      ]
    },
    {
      "cell_type": "code",
      "metadata": {
        "id": "lYfwrvZPDCZe",
        "colab_type": "code",
        "colab": {}
      },
      "source": [
        ""
      ],
      "execution_count": null,
      "outputs": []
    },
    {
      "cell_type": "markdown",
      "metadata": {
        "id": "Cnmv8wVkDNYF",
        "colab_type": "text"
      },
      "source": [
        "Data Cleaning is the process of preventing and correcting\n",
        "the errors such as duplicates, misssing values and\n",
        "incomplet data by importing libraries pandas and numpy"
      ]
    },
    {
      "cell_type": "code",
      "metadata": {
        "id": "G-GXO5WKDOEQ",
        "colab_type": "code",
        "colab": {}
      },
      "source": [
        ""
      ],
      "execution_count": null,
      "outputs": []
    },
    {
      "cell_type": "code",
      "metadata": {
        "id": "J1cof4u-DO8o",
        "colab_type": "code",
        "colab": {
          "resources": {
            "http://localhost:8080/nbextensions/google.colab/files.js": {
              "data": "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",
              "ok": true,
              "headers": [
                [
                  "content-type",
                  "application/javascript"
                ]
              ],
              "status": 200,
              "status_text": ""
            }
          },
          "base_uri": "https://localhost:8080/",
          "height": 242
        },
        "outputId": "2cb03c66-ca6d-4ee4-be4c-37b8f5f6b6c5"
      },
      "source": [
        "import pandas as pd\n",
        "import numpy as np\n",
        "#Coding for importing csv files in Google colab\n",
        "from google.colab import files\n",
        "import io\n",
        "uploaded = files.upload()\n",
        "df = pd.read_csv(io.BytesIO(uploaded['property_data.csv']))\n",
        "# Read csv file property_data.csv into a pandas dataframe\n",
        "# Take a look at the first few rows\n",
        "import io\n",
        "print(df)"
      ],
      "execution_count": 2,
      "outputs": [
        {
          "output_type": "display_data",
          "data": {
            "text/html": [
              "\n",
              "     <input type=\"file\" id=\"files-f9412209-aa71-4108-8012-71ce1588cd57\" name=\"files[]\" multiple disabled\n",
              "        style=\"border:none\" />\n",
              "     <output id=\"result-f9412209-aa71-4108-8012-71ce1588cd57\">\n",
              "      Upload widget is only available when the cell has been executed in the\n",
              "      current browser session. Please rerun this cell to enable.\n",
              "      </output>\n",
              "      <script src=\"/nbextensions/google.colab/files.js\"></script> "
            ],
            "text/plain": [
              "<IPython.core.display.HTML object>"
            ]
          },
          "metadata": {
            "tags": []
          }
        },
        {
          "output_type": "stream",
          "text": [
            "Saving property_data.csv to property_data (1).csv\n",
            "   ST_NUM    ST_NAME NUM_ROOMS OWN_OCCUPIED\n",
            "0   104.0     LEXTON         2            Y\n",
            "1   197.0   BERKELEY         3            N\n",
            "2     NaN  WASHINTON         3            Y\n",
            "3   201.0    TREMONT       NaN            N\n",
            "4   203.0    TREMONT        na           12\n",
            "5   205.0    TREMONT        --            Y\n",
            "6     NaN      BLAZE         4          NaN\n",
            "7   213.0      BLAZE         5            N\n",
            "8   214.0      BLAZE         6            N\n"
          ],
          "name": "stdout"
        }
      ]
    },
    {
      "cell_type": "code",
      "metadata": {
        "id": "scJGdpZWDUC4",
        "colab_type": "code",
        "colab": {}
      },
      "source": [
        ""
      ],
      "execution_count": null,
      "outputs": []
    },
    {
      "cell_type": "markdown",
      "metadata": {
        "id": "PG1wLtsTEUAP",
        "colab_type": "text"
      },
      "source": [
        "Looking at the ST_NUM and NUM_ROOMS columns\n",
        "whether they have any null values"
      ]
    },
    {
      "cell_type": "code",
      "metadata": {
        "id": "TDHYO31NEZsX",
        "colab_type": "code",
        "colab": {}
      },
      "source": [
        ""
      ],
      "execution_count": null,
      "outputs": []
    },
    {
      "cell_type": "code",
      "metadata": {
        "id": "ruv-kIcKEcIT",
        "colab_type": "code",
        "colab": {
          "base_uri": "https://localhost:8080/",
          "height": 697
        },
        "outputId": "48d41455-a68f-4967-eb05-e7e6c8403420"
      },
      "source": [
        "print (df['ST_NUM'])\n",
        "print (df['ST_NUM'].isnull())\n",
        "print(df['NUM_ROOMS'])\n",
        "print(df['NUM_ROOMS'].isnull())"
      ],
      "execution_count": 3,
      "outputs": [
        {
          "output_type": "stream",
          "text": [
            "0    104.0\n",
            "1    197.0\n",
            "2      NaN\n",
            "3    201.0\n",
            "4    203.0\n",
            "5    205.0\n",
            "6      NaN\n",
            "7    213.0\n",
            "8    214.0\n",
            "Name: ST_NUM, dtype: float64\n",
            "0    False\n",
            "1    False\n",
            "2     True\n",
            "3    False\n",
            "4    False\n",
            "5    False\n",
            "6     True\n",
            "7    False\n",
            "8    False\n",
            "Name: ST_NUM, dtype: bool\n",
            "0      2\n",
            "1      3\n",
            "2      3\n",
            "3    NaN\n",
            "4     na\n",
            "5     --\n",
            "6      4\n",
            "7      5\n",
            "8      6\n",
            "Name: NUM_ROOMS, dtype: object\n",
            "0    False\n",
            "1    False\n",
            "2    False\n",
            "3     True\n",
            "4    False\n",
            "5    False\n",
            "6    False\n",
            "7    False\n",
            "8    False\n",
            "Name: NUM_ROOMS, dtype: bool\n"
          ],
          "name": "stdout"
        }
      ]
    },
    {
      "cell_type": "code",
      "metadata": {
        "id": "3HcWl_qYEiEj",
        "colab_type": "code",
        "colab": {}
      },
      "source": [
        ""
      ],
      "execution_count": null,
      "outputs": []
    },
    {
      "cell_type": "markdown",
      "metadata": {
        "id": "9643WugyEjek",
        "colab_type": "text"
      },
      "source": [
        "To mention possible missing values while opening the "
      ]
    },
    {
      "cell_type": "code",
      "metadata": {
        "id": "Bqqof47UEpRF",
        "colab_type": "code",
        "colab": {}
      },
      "source": [
        ""
      ],
      "execution_count": null,
      "outputs": []
    },
    {
      "cell_type": "markdown",
      "metadata": {
        "id": "Pevzzsa-E3mI",
        "colab_type": "text"
      },
      "source": [
        "To mention possible missing values while opening the "
      ]
    },
    {
      "cell_type": "code",
      "metadata": {
        "id": "XzlDo9Q_EqB_",
        "colab_type": "code",
        "colab": {}
      },
      "source": [
        ""
      ],
      "execution_count": null,
      "outputs": []
    },
    {
      "cell_type": "code",
      "metadata": {
        "id": "UdoVK3ZoE8r4",
        "colab_type": "code",
        "colab": {
          "base_uri": "https://localhost:8080/",
          "height": 357
        },
        "outputId": "f51f638a-4a1e-4089-efeb-62b4d3fad7dd"
      },
      "source": [
        "#missing_values = [\"n/a\", \"na\", \"--\"]\n",
        "print(df['NUM_ROOMS'].isnull())\n",
        "#pd.read_csv(io.BytesIO(uploaded['property_data.csv']),na_values = missing_values)\n",
        "print(df['NUM_ROOMS'])"
      ],
      "execution_count": 4,
      "outputs": [
        {
          "output_type": "stream",
          "text": [
            "0    False\n",
            "1    False\n",
            "2    False\n",
            "3     True\n",
            "4    False\n",
            "5    False\n",
            "6    False\n",
            "7    False\n",
            "8    False\n",
            "Name: NUM_ROOMS, dtype: bool\n",
            "0      2\n",
            "1      3\n",
            "2      3\n",
            "3    NaN\n",
            "4     na\n",
            "5     --\n",
            "6      4\n",
            "7      5\n",
            "8      6\n",
            "Name: NUM_ROOMS, dtype: object\n"
          ],
          "name": "stdout"
        }
      ]
    },
    {
      "cell_type": "code",
      "metadata": {
        "id": "sDFOVCshFAfW",
        "colab_type": "code",
        "colab": {}
      },
      "source": [
        ""
      ],
      "execution_count": null,
      "outputs": []
    },
    {
      "cell_type": "markdown",
      "metadata": {
        "id": "-X57NIQ8FTmh",
        "colab_type": "text"
      },
      "source": [
        "The above 3,4 5th index is not numeric whih needs\n",
        "correction again therefore we need coding part for it. It is\n",
        "corrected with coding below"
      ]
    },
    {
      "cell_type": "code",
      "metadata": {
        "id": "CZYXvP_sFXsv",
        "colab_type": "code",
        "colab": {}
      },
      "source": [
        ""
      ],
      "execution_count": null,
      "outputs": []
    },
    {
      "cell_type": "code",
      "metadata": {
        "id": "RdxBGD_9FYnd",
        "colab_type": "code",
        "colab": {
          "base_uri": "https://localhost:8080/",
          "height": 357
        },
        "outputId": "116a78c2-6a3a-498e-d7b2-0e5b9120e59c"
      },
      "source": [
        "# Detecting numbers and replace it with NaN of numpy\n",
        "cnt=0\n",
        "for row in df['NUM_ROOMS']:\n",
        "    try:\n",
        "        int(row)\n",
        "    except ValueError:\n",
        "         df.loc[cnt, 'NUM_ROOMS']=np.nan\n",
        "    cnt+=1\n",
        "print(df['NUM_ROOMS'])\n",
        "print(df['NUM_ROOMS'].isnull())"
      ],
      "execution_count": 7,
      "outputs": [
        {
          "output_type": "stream",
          "text": [
            "0      2\n",
            "1      3\n",
            "2      3\n",
            "3    NaN\n",
            "4    NaN\n",
            "5    NaN\n",
            "6      4\n",
            "7      5\n",
            "8      6\n",
            "Name: NUM_ROOMS, dtype: object\n",
            "0    False\n",
            "1    False\n",
            "2    False\n",
            "3     True\n",
            "4     True\n",
            "5     True\n",
            "6    False\n",
            "7    False\n",
            "8    False\n",
            "Name: NUM_ROOMS, dtype: bool\n"
          ],
          "name": "stdout"
        }
      ]
    },
    {
      "cell_type": "markdown",
      "metadata": {
        "id": "p5jlhD7RGgrh",
        "colab_type": "text"
      },
      "source": [
        ""
      ]
    },
    {
      "cell_type": "markdown",
      "metadata": {
        "id": "kA3hx2j7G2Eh",
        "colab_type": "text"
      },
      "source": [
        "The above 4 th index is numeric which needs correction\n",
        "again therefore we need coding part for it. It is corrected\n",
        "with coding below"
      ]
    },
    {
      "cell_type": "code",
      "metadata": {
        "id": "pY82Da_4Fcsz",
        "colab_type": "code",
        "colab": {
          "base_uri": "https://localhost:8080/",
          "height": 357
        },
        "outputId": "ed823e04-da8f-4bd4-ba20-84f5390be133"
      },
      "source": [
        "# Detecting numbers and replace it with NaN of numpy\n",
        "cnt=0\n",
        "for row in df['OWN_OCCUPIED']:\n",
        "    try:\n",
        "        int(row)\n",
        "        df.loc[cnt, 'OWN_OCCUPIED']=np.nan\n",
        "    except ValueError:\n",
        "        pass\n",
        "    cnt+=1\n",
        "print(df['OWN_OCCUPIED'])\n",
        "print(df['OWN_OCCUPIED'].isnull())"
      ],
      "execution_count": 8,
      "outputs": [
        {
          "output_type": "stream",
          "text": [
            "0      Y\n",
            "1      N\n",
            "2      Y\n",
            "3      N\n",
            "4    NaN\n",
            "5      Y\n",
            "6    NaN\n",
            "7      N\n",
            "8      N\n",
            "Name: OWN_OCCUPIED, dtype: object\n",
            "0    False\n",
            "1    False\n",
            "2    False\n",
            "3    False\n",
            "4     True\n",
            "5    False\n",
            "6     True\n",
            "7    False\n",
            "8    False\n",
            "Name: OWN_OCCUPIED, dtype: bool\n"
          ],
          "name": "stdout"
        }
      ]
    },
    {
      "cell_type": "code",
      "metadata": {
        "id": "iq5rSG1AHaYe",
        "colab_type": "code",
        "colab": {}
      },
      "source": [
        ""
      ],
      "execution_count": null,
      "outputs": []
    },
    {
      "cell_type": "markdown",
      "metadata": {
        "id": "3Vl1dB-rHcZ0",
        "colab_type": "text"
      },
      "source": [
        "Total missing values for each feature"
      ]
    },
    {
      "cell_type": "code",
      "metadata": {
        "id": "lnkfw38vHoRk",
        "colab_type": "code",
        "colab": {}
      },
      "source": [
        ""
      ],
      "execution_count": null,
      "outputs": []
    },
    {
      "cell_type": "code",
      "metadata": {
        "id": "vA2cmd1mHo2e",
        "colab_type": "code",
        "colab": {
          "base_uri": "https://localhost:8080/",
          "height": 136
        },
        "outputId": "97d696df-830d-4878-9fac-f9626afde521"
      },
      "source": [
        "print(df.isnull().sum())\n",
        "print(sum(df.isnull().sum()))\n",
        "print('Total missing values')"
      ],
      "execution_count": 9,
      "outputs": [
        {
          "output_type": "stream",
          "text": [
            "ST_NUM          2\n",
            "ST_NAME         0\n",
            "NUM_ROOMS       3\n",
            "OWN_OCCUPIED    2\n",
            "dtype: int64\n",
            "7\n",
            "Total missing values\n"
          ],
          "name": "stdout"
        }
      ]
    },
    {
      "cell_type": "code",
      "metadata": {
        "id": "6Na49u6fHt50",
        "colab_type": "code",
        "colab": {}
      },
      "source": [
        ""
      ],
      "execution_count": null,
      "outputs": []
    },
    {
      "cell_type": "markdown",
      "metadata": {
        "id": "-OQGR67EH-gS",
        "colab_type": "text"
      },
      "source": [
        "Finding TOTAL missing of each mission fields and Total number of missing values"
      ]
    },
    {
      "cell_type": "code",
      "metadata": {
        "id": "gwH2OIXmIJEV",
        "colab_type": "code",
        "colab": {
          "base_uri": "https://localhost:8080/",
          "height": 102
        },
        "outputId": "71fe4315-2011-43e1-93d9-42566a69d61a"
      },
      "source": [
        "print(df['ST_NUM'].isnull().sum())\n",
        "print(df['ST_NAME'].isnull().sum())\n",
        "print(df['NUM_ROOMS'].isnull().sum())\n",
        "print(df['OWN_OCCUPIED'].isnull().sum())\n",
        "print(df.isnull().sum().sum())"
      ],
      "execution_count": 10,
      "outputs": [
        {
          "output_type": "stream",
          "text": [
            "2\n",
            "0\n",
            "3\n",
            "2\n",
            "7\n"
          ],
          "name": "stdout"
        }
      ]
    },
    {
      "cell_type": "code",
      "metadata": {
        "id": "tvInSF_EINcC",
        "colab_type": "code",
        "colab": {}
      },
      "source": [
        ""
      ],
      "execution_count": null,
      "outputs": []
    },
    {
      "cell_type": "markdown",
      "metadata": {
        "id": "HT9gsixnIPLL",
        "colab_type": "text"
      },
      "source": [
        "Finding COUNT AND average of missing of each mission fields and Total number of\n",
        "df.shape"
      ]
    },
    {
      "cell_type": "code",
      "metadata": {
        "id": "RB4Lxst5ITCA",
        "colab_type": "code",
        "colab": {}
      },
      "source": [
        ""
      ],
      "execution_count": null,
      "outputs": []
    },
    {
      "cell_type": "code",
      "metadata": {
        "id": "rpRkuSJYITr6",
        "colab_type": "code",
        "colab": {
          "base_uri": "https://localhost:8080/",
          "height": 85
        },
        "outputId": "c496dc0e-d6aa-4c98-ac27-976f106760e1"
      },
      "source": [
        "print(df['ST_NUM'].isnull().sum()/9.0)\n",
        "print(df['ST_NAME'].isnull().sum()/9.0)\n",
        "print(df['NUM_ROOMS'].isnull().sum()/9.0)\n",
        "print(df['OWN_OCCUPIED'].isnull().sum()/9.0)"
      ],
      "execution_count": 11,
      "outputs": [
        {
          "output_type": "stream",
          "text": [
            "0.2222222222222222\n",
            "0.0\n",
            "0.3333333333333333\n",
            "0.2222222222222222\n"
          ],
          "name": "stdout"
        }
      ]
    },
    {
      "cell_type": "code",
      "metadata": {
        "id": "98PotpP-IXH0",
        "colab_type": "code",
        "colab": {}
      },
      "source": [
        ""
      ],
      "execution_count": null,
      "outputs": []
    },
    {
      "cell_type": "markdown",
      "metadata": {
        "id": "xfa6wHP-IYmB",
        "colab_type": "text"
      },
      "source": [
        ""
      ]
    },
    {
      "cell_type": "code",
      "metadata": {
        "id": "IUOP_-xSIhPX",
        "colab_type": "code",
        "colab": {
          "base_uri": "https://localhost:8080/",
          "height": 204
        },
        "outputId": "eae6df39-1446-46be-a721-40c67b05323a"
      },
      "source": [
        "\n",
        "df['ST_NUM'].fillna(125, inplace=True)\n",
        "print(' ST_NUM')\n",
        "print(df['ST_NUM'])"
      ],
      "execution_count": 13,
      "outputs": [
        {
          "output_type": "stream",
          "text": [
            " ST_NUM\n",
            "0    104.0\n",
            "1    197.0\n",
            "2    125.0\n",
            "3    201.0\n",
            "4    203.0\n",
            "5    205.0\n",
            "6    125.0\n",
            "7    213.0\n",
            "8    214.0\n",
            "Name: ST_NUM, dtype: float64\n"
          ],
          "name": "stdout"
        }
      ]
    },
    {
      "cell_type": "code",
      "metadata": {
        "id": "Hrj7-tuMIkOS",
        "colab_type": "code",
        "colab": {}
      },
      "source": [
        ""
      ],
      "execution_count": null,
      "outputs": []
    },
    {
      "cell_type": "markdown",
      "metadata": {
        "id": "Zu6NLJsFIrVb",
        "colab_type": "text"
      },
      "source": [
        "Replace using median"
      ]
    },
    {
      "cell_type": "code",
      "metadata": {
        "id": "zRYzH-KhIxxB",
        "colab_type": "code",
        "colab": {}
      },
      "source": [
        ""
      ],
      "execution_count": null,
      "outputs": []
    },
    {
      "cell_type": "code",
      "metadata": {
        "id": "qwaOt93AIyXa",
        "colab_type": "code",
        "colab": {
          "base_uri": "https://localhost:8080/",
          "height": 187
        },
        "outputId": "fef76ac9-056d-49d6-e545-f4bfc0b73269"
      },
      "source": [
        "median = df['NUM_ROOMS'].median()\n",
        "df['NUM_ROOMS'].fillna(median, inplace=True)\n",
        "print(df['NUM_ROOMS'])"
      ],
      "execution_count": 14,
      "outputs": [
        {
          "output_type": "stream",
          "text": [
            "0      2\n",
            "1      3\n",
            "2      3\n",
            "3    3.5\n",
            "4    3.5\n",
            "5    3.5\n",
            "6      4\n",
            "7      5\n",
            "8      6\n",
            "Name: NUM_ROOMS, dtype: object\n"
          ],
          "name": "stdout"
        }
      ]
    },
    {
      "cell_type": "code",
      "metadata": {
        "id": "rplg_f8EI1VU",
        "colab_type": "code",
        "colab": {}
      },
      "source": [
        ""
      ],
      "execution_count": null,
      "outputs": []
    },
    {
      "cell_type": "markdown",
      "metadata": {
        "id": "VcwziK4KJQuW",
        "colab_type": "text"
      },
      "source": [
        ""
      ]
    },
    {
      "cell_type": "code",
      "metadata": {
        "id": "RvUddWmsJdaK",
        "colab_type": "code",
        "colab": {
          "base_uri": "https://localhost:8080/",
          "height": 187
        },
        "outputId": "5a227552-a906-4e1f-b982-2314414a1e4c"
      },
      "source": [
        "print(df)"
      ],
      "execution_count": 15,
      "outputs": [
        {
          "output_type": "stream",
          "text": [
            "   ST_NUM    ST_NAME NUM_ROOMS OWN_OCCUPIED\n",
            "0   104.0     LEXTON         2            Y\n",
            "1   197.0   BERKELEY         3            N\n",
            "2   125.0  WASHINTON         3            Y\n",
            "3   201.0    TREMONT       3.5            N\n",
            "4   203.0    TREMONT       3.5          NaN\n",
            "5   205.0    TREMONT       3.5            Y\n",
            "6   125.0      BLAZE         4          NaN\n",
            "7   213.0      BLAZE         5            N\n",
            "8   214.0      BLAZE         6            N\n"
          ],
          "name": "stdout"
        }
      ]
    },
    {
      "cell_type": "code",
      "metadata": {
        "id": "SygfAHLHJf9k",
        "colab_type": "code",
        "colab": {}
      },
      "source": [
        ""
      ],
      "execution_count": null,
      "outputs": []
    },
    {
      "cell_type": "markdown",
      "metadata": {
        "id": "y0P-HxK0Jnqb",
        "colab_type": "text"
      },
      "source": [
        "to find the maxmum occurrence of the values in the attribute OWN_OCCUPIED"
      ]
    },
    {
      "cell_type": "code",
      "metadata": {
        "id": "Tq00EaM_JoQZ",
        "colab_type": "code",
        "colab": {
          "base_uri": "https://localhost:8080/",
          "height": 34
        },
        "outputId": "02cfd54c-b1ab-4d8c-8da5-e4efe7a57080"
      },
      "source": [
        "df['OWN_OCCUPIED'].value_counts().idxmax()"
      ],
      "execution_count": 16,
      "outputs": [
        {
          "output_type": "execute_result",
          "data": {
            "text/plain": [
              "'N'"
            ]
          },
          "metadata": {
            "tags": []
          },
          "execution_count": 16
        }
      ]
    },
    {
      "cell_type": "code",
      "metadata": {
        "id": "DhLTP30kJr1d",
        "colab_type": "code",
        "colab": {}
      },
      "source": [
        ""
      ],
      "execution_count": null,
      "outputs": []
    },
    {
      "cell_type": "markdown",
      "metadata": {
        "id": "mhZs32WCJ6hd",
        "colab_type": "text"
      },
      "source": [
        ""
      ]
    },
    {
      "cell_type": "code",
      "metadata": {
        "id": "PbSu5qyvJ-ti",
        "colab_type": "code",
        "colab": {
          "base_uri": "https://localhost:8080/",
          "height": 328
        },
        "outputId": "39c625ec-7998-4f71-b80c-5e80f6822f67"
      },
      "source": [
        "df"
      ],
      "execution_count": 17,
      "outputs": [
        {
          "output_type": "execute_result",
          "data": {
            "text/html": [
              "<div>\n",
              "<style scoped>\n",
              "    .dataframe tbody tr th:only-of-type {\n",
              "        vertical-align: middle;\n",
              "    }\n",
              "\n",
              "    .dataframe tbody tr th {\n",
              "        vertical-align: top;\n",
              "    }\n",
              "\n",
              "    .dataframe thead th {\n",
              "        text-align: right;\n",
              "    }\n",
              "</style>\n",
              "<table border=\"1\" class=\"dataframe\">\n",
              "  <thead>\n",
              "    <tr style=\"text-align: right;\">\n",
              "      <th></th>\n",
              "      <th>ST_NUM</th>\n",
              "      <th>ST_NAME</th>\n",
              "      <th>NUM_ROOMS</th>\n",
              "      <th>OWN_OCCUPIED</th>\n",
              "    </tr>\n",
              "  </thead>\n",
              "  <tbody>\n",
              "    <tr>\n",
              "      <th>0</th>\n",
              "      <td>104.0</td>\n",
              "      <td>LEXTON</td>\n",
              "      <td>2</td>\n",
              "      <td>Y</td>\n",
              "    </tr>\n",
              "    <tr>\n",
              "      <th>1</th>\n",
              "      <td>197.0</td>\n",
              "      <td>BERKELEY</td>\n",
              "      <td>3</td>\n",
              "      <td>N</td>\n",
              "    </tr>\n",
              "    <tr>\n",
              "      <th>2</th>\n",
              "      <td>125.0</td>\n",
              "      <td>WASHINTON</td>\n",
              "      <td>3</td>\n",
              "      <td>Y</td>\n",
              "    </tr>\n",
              "    <tr>\n",
              "      <th>3</th>\n",
              "      <td>201.0</td>\n",
              "      <td>TREMONT</td>\n",
              "      <td>3.5</td>\n",
              "      <td>N</td>\n",
              "    </tr>\n",
              "    <tr>\n",
              "      <th>4</th>\n",
              "      <td>203.0</td>\n",
              "      <td>TREMONT</td>\n",
              "      <td>3.5</td>\n",
              "      <td>NaN</td>\n",
              "    </tr>\n",
              "    <tr>\n",
              "      <th>5</th>\n",
              "      <td>205.0</td>\n",
              "      <td>TREMONT</td>\n",
              "      <td>3.5</td>\n",
              "      <td>Y</td>\n",
              "    </tr>\n",
              "    <tr>\n",
              "      <th>6</th>\n",
              "      <td>125.0</td>\n",
              "      <td>BLAZE</td>\n",
              "      <td>4</td>\n",
              "      <td>NaN</td>\n",
              "    </tr>\n",
              "    <tr>\n",
              "      <th>7</th>\n",
              "      <td>213.0</td>\n",
              "      <td>BLAZE</td>\n",
              "      <td>5</td>\n",
              "      <td>N</td>\n",
              "    </tr>\n",
              "    <tr>\n",
              "      <th>8</th>\n",
              "      <td>214.0</td>\n",
              "      <td>BLAZE</td>\n",
              "      <td>6</td>\n",
              "      <td>N</td>\n",
              "    </tr>\n",
              "  </tbody>\n",
              "</table>\n",
              "</div>"
            ],
            "text/plain": [
              "   ST_NUM    ST_NAME NUM_ROOMS OWN_OCCUPIED\n",
              "0   104.0     LEXTON         2            Y\n",
              "1   197.0   BERKELEY         3            N\n",
              "2   125.0  WASHINTON         3            Y\n",
              "3   201.0    TREMONT       3.5            N\n",
              "4   203.0    TREMONT       3.5          NaN\n",
              "5   205.0    TREMONT       3.5            Y\n",
              "6   125.0      BLAZE         4          NaN\n",
              "7   213.0      BLAZE         5            N\n",
              "8   214.0      BLAZE         6            N"
            ]
          },
          "metadata": {
            "tags": []
          },
          "execution_count": 17
        }
      ]
    },
    {
      "cell_type": "code",
      "metadata": {
        "id": "JlaejIziJ_Vo",
        "colab_type": "code",
        "colab": {}
      },
      "source": [
        ""
      ],
      "execution_count": null,
      "outputs": []
    },
    {
      "cell_type": "code",
      "metadata": {
        "id": "GUdbngY_KG5D",
        "colab_type": "code",
        "colab": {
          "base_uri": "https://localhost:8080/",
          "height": 68
        },
        "outputId": "433f0296-d006-47f6-a2b1-be4686989020"
      },
      "source": [
        "df['OWN_OCCUPIED'].value_counts()"
      ],
      "execution_count": 18,
      "outputs": [
        {
          "output_type": "execute_result",
          "data": {
            "text/plain": [
              "N    4\n",
              "Y    3\n",
              "Name: OWN_OCCUPIED, dtype: int64"
            ]
          },
          "metadata": {
            "tags": []
          },
          "execution_count": 18
        }
      ]
    },
    {
      "cell_type": "code",
      "metadata": {
        "id": "gJ-skCjiKHaT",
        "colab_type": "code",
        "colab": {}
      },
      "source": [
        ""
      ],
      "execution_count": null,
      "outputs": []
    },
    {
      "cell_type": "code",
      "metadata": {
        "id": "FFeh2tdYKLhf",
        "colab_type": "code",
        "colab": {
          "base_uri": "https://localhost:8080/",
          "height": 187
        },
        "outputId": "4a84b2de-a52c-4ff1-91fe-d4731fc688ac"
      },
      "source": [
        "df['ST_NUM'].fillna(125)"
      ],
      "execution_count": 20,
      "outputs": [
        {
          "output_type": "execute_result",
          "data": {
            "text/plain": [
              "0    104.0\n",
              "1    197.0\n",
              "2    125.0\n",
              "3    201.0\n",
              "4    203.0\n",
              "5    205.0\n",
              "6    125.0\n",
              "7    213.0\n",
              "8    214.0\n",
              "Name: ST_NUM, dtype: float64"
            ]
          },
          "metadata": {
            "tags": []
          },
          "execution_count": 20
        }
      ]
    },
    {
      "cell_type": "code",
      "metadata": {
        "id": "Ouvo1C5xKT1F",
        "colab_type": "code",
        "colab": {
          "base_uri": "https://localhost:8080/",
          "height": 328
        },
        "outputId": "0a2a1fe5-e333-470e-a784-0c3a0e1e03a7"
      },
      "source": [
        "df"
      ],
      "execution_count": 21,
      "outputs": [
        {
          "output_type": "execute_result",
          "data": {
            "text/html": [
              "<div>\n",
              "<style scoped>\n",
              "    .dataframe tbody tr th:only-of-type {\n",
              "        vertical-align: middle;\n",
              "    }\n",
              "\n",
              "    .dataframe tbody tr th {\n",
              "        vertical-align: top;\n",
              "    }\n",
              "\n",
              "    .dataframe thead th {\n",
              "        text-align: right;\n",
              "    }\n",
              "</style>\n",
              "<table border=\"1\" class=\"dataframe\">\n",
              "  <thead>\n",
              "    <tr style=\"text-align: right;\">\n",
              "      <th></th>\n",
              "      <th>ST_NUM</th>\n",
              "      <th>ST_NAME</th>\n",
              "      <th>NUM_ROOMS</th>\n",
              "      <th>OWN_OCCUPIED</th>\n",
              "    </tr>\n",
              "  </thead>\n",
              "  <tbody>\n",
              "    <tr>\n",
              "      <th>0</th>\n",
              "      <td>104.0</td>\n",
              "      <td>LEXTON</td>\n",
              "      <td>2</td>\n",
              "      <td>Y</td>\n",
              "    </tr>\n",
              "    <tr>\n",
              "      <th>1</th>\n",
              "      <td>197.0</td>\n",
              "      <td>BERKELEY</td>\n",
              "      <td>3</td>\n",
              "      <td>N</td>\n",
              "    </tr>\n",
              "    <tr>\n",
              "      <th>2</th>\n",
              "      <td>125.0</td>\n",
              "      <td>WASHINTON</td>\n",
              "      <td>3</td>\n",
              "      <td>Y</td>\n",
              "    </tr>\n",
              "    <tr>\n",
              "      <th>3</th>\n",
              "      <td>201.0</td>\n",
              "      <td>TREMONT</td>\n",
              "      <td>3.5</td>\n",
              "      <td>N</td>\n",
              "    </tr>\n",
              "    <tr>\n",
              "      <th>4</th>\n",
              "      <td>203.0</td>\n",
              "      <td>TREMONT</td>\n",
              "      <td>3.5</td>\n",
              "      <td>NaN</td>\n",
              "    </tr>\n",
              "    <tr>\n",
              "      <th>5</th>\n",
              "      <td>205.0</td>\n",
              "      <td>TREMONT</td>\n",
              "      <td>3.5</td>\n",
              "      <td>Y</td>\n",
              "    </tr>\n",
              "    <tr>\n",
              "      <th>6</th>\n",
              "      <td>125.0</td>\n",
              "      <td>BLAZE</td>\n",
              "      <td>4</td>\n",
              "      <td>NaN</td>\n",
              "    </tr>\n",
              "    <tr>\n",
              "      <th>7</th>\n",
              "      <td>213.0</td>\n",
              "      <td>BLAZE</td>\n",
              "      <td>5</td>\n",
              "      <td>N</td>\n",
              "    </tr>\n",
              "    <tr>\n",
              "      <th>8</th>\n",
              "      <td>214.0</td>\n",
              "      <td>BLAZE</td>\n",
              "      <td>6</td>\n",
              "      <td>N</td>\n",
              "    </tr>\n",
              "  </tbody>\n",
              "</table>\n",
              "</div>"
            ],
            "text/plain": [
              "   ST_NUM    ST_NAME NUM_ROOMS OWN_OCCUPIED\n",
              "0   104.0     LEXTON         2            Y\n",
              "1   197.0   BERKELEY         3            N\n",
              "2   125.0  WASHINTON         3            Y\n",
              "3   201.0    TREMONT       3.5            N\n",
              "4   203.0    TREMONT       3.5          NaN\n",
              "5   205.0    TREMONT       3.5            Y\n",
              "6   125.0      BLAZE         4          NaN\n",
              "7   213.0      BLAZE         5            N\n",
              "8   214.0      BLAZE         6            N"
            ]
          },
          "metadata": {
            "tags": []
          },
          "execution_count": 21
        }
      ]
    },
    {
      "cell_type": "code",
      "metadata": {
        "id": "NiEuPWEZKXsZ",
        "colab_type": "code",
        "colab": {}
      },
      "source": [
        ""
      ],
      "execution_count": null,
      "outputs": []
    },
    {
      "cell_type": "code",
      "metadata": {
        "id": "1xTDpZT5LKS0",
        "colab_type": "code",
        "colab": {}
      },
      "source": [
        ""
      ],
      "execution_count": null,
      "outputs": []
    }
  ]
}