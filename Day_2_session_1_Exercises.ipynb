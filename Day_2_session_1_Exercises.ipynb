{
  "nbformat": 4,
  "nbformat_minor": 0,
  "metadata": {
    "colab": {
      "name": "Day 2 session 1 Exercises.ipynb",
      "provenance": [],
      "authorship_tag": "ABX9TyMPTfs8Fk2vVCbrjqY/HrH3",
      "include_colab_link": true
    },
    "kernelspec": {
      "name": "python3",
      "display_name": "Python 3"
    }
  },
  "cells": [
    {
      "cell_type": "markdown",
      "metadata": {
        "id": "view-in-github",
        "colab_type": "text"
      },
      "source": [
        "<a href=\"https://colab.research.google.com/github/pavana-p-kulal/Applications-of-Python-Programming-in-DA-and-ML/blob/master/Day_2_session_1_Exercises.ipynb\" target=\"_parent\"><img src=\"https://colab.research.google.com/assets/colab-badge.svg\" alt=\"Open In Colab\"/></a>"
      ]
    },
    {
      "cell_type": "code",
      "metadata": {
        "id": "HDVX4t0cEa23",
        "colab_type": "code",
        "colab": {}
      },
      "source": [
        ""
      ],
      "execution_count": 0,
      "outputs": []
    },
    {
      "cell_type": "markdown",
      "metadata": {
        "id": "0MGXfepQEj8I",
        "colab_type": "text"
      },
      "source": [
        "print multiples of 3 upto 200 using a list"
      ]
    },
    {
      "cell_type": "code",
      "metadata": {
        "id": "G9nUEQcREoNz",
        "colab_type": "code",
        "colab": {}
      },
      "source": [
        ""
      ],
      "execution_count": 0,
      "outputs": []
    },
    {
      "cell_type": "code",
      "metadata": {
        "id": "BpCpa6d_Ep3p",
        "colab_type": "code",
        "colab": {
          "base_uri": "https://localhost:8080/",
          "height": 54
        },
        "outputId": "c0efc1db-c64e-424a-ec9c-997e46044d78"
      },
      "source": [
        "def multiple(m, n): \n",
        "    a = range(n, (m * n)+1, n)   \n",
        "    print(*a)   \n",
        "m = 66\n",
        "n = 3\n",
        "multiple(m, n)"
      ],
      "execution_count": 1,
      "outputs": [
        {
          "output_type": "stream",
          "text": [
            "3 6 9 12 15 18 21 24 27 30 33 36 39 42 45 48 51 54 57 60 63 66 69 72 75 78 81 84 87 90 93 96 99 102 105 108 111 114 117 120 123 126 129 132 135 138 141 144 147 150 153 156 159 162 165 168 171 174 177 180 183 186 189 192 195 198\n"
          ],
          "name": "stdout"
        }
      ]
    },
    {
      "cell_type": "code",
      "metadata": {
        "id": "HLukU5P7Ez-X",
        "colab_type": "code",
        "colab": {}
      },
      "source": [
        ""
      ],
      "execution_count": 0,
      "outputs": []
    },
    {
      "cell_type": "markdown",
      "metadata": {
        "id": "QI858NghE4ma",
        "colab_type": "text"
      },
      "source": [
        "print the nos only divisable by 5 and 7 between 1000 and 2000 using a list( both inclusive"
      ]
    },
    {
      "cell_type": "code",
      "metadata": {
        "id": "nccAn0Z9E7bP",
        "colab_type": "code",
        "colab": {}
      },
      "source": [
        ""
      ],
      "execution_count": 0,
      "outputs": []
    },
    {
      "cell_type": "code",
      "metadata": {
        "id": "uagTC6miE8Ho",
        "colab_type": "code",
        "colab": {
          "base_uri": "https://localhost:8080/",
          "height": 34
        },
        "outputId": "82b31508-f72b-4cd5-f696-afbebb26a30f"
      },
      "source": [
        "nl=[]\n",
        "for x in range(1000, 2000):\n",
        "    if (x%7==0) and (x%5==0):\n",
        "        nl.append(str(x))\n",
        "print (','.join(nl))"
      ],
      "execution_count": 2,
      "outputs": [
        {
          "output_type": "stream",
          "text": [
            "1015,1050,1085,1120,1155,1190,1225,1260,1295,1330,1365,1400,1435,1470,1505,1540,1575,1610,1645,1680,1715,1750,1785,1820,1855,1890,1925,1960,1995\n"
          ],
          "name": "stdout"
        }
      ]
    },
    {
      "cell_type": "code",
      "metadata": {
        "id": "61ERCm5RFFvm",
        "colab_type": "code",
        "colab": {}
      },
      "source": [
        ""
      ],
      "execution_count": 0,
      "outputs": []
    },
    {
      "cell_type": "markdown",
      "metadata": {
        "id": "hGVM2ngKFH8T",
        "colab_type": "text"
      },
      "source": [
        "Add the n number of names in a list and print them alphabetically and reverse alphabetically."
      ]
    },
    {
      "cell_type": "code",
      "metadata": {
        "id": "iijOOZg7FK_n",
        "colab_type": "code",
        "colab": {}
      },
      "source": [
        ""
      ],
      "execution_count": 0,
      "outputs": []
    },
    {
      "cell_type": "markdown",
      "metadata": {
        "id": "DjGBr7gyFofQ",
        "colab_type": "text"
      },
      "source": [
        "Print  perfect squares and divisible by 5 between 500 and 1000( (both inclusive) using list"
      ]
    },
    {
      "cell_type": "code",
      "metadata": {
        "id": "Z84ACYRSFrBS",
        "colab_type": "code",
        "colab": {
          "base_uri": "https://localhost:8080/",
          "height": 119
        },
        "outputId": "1e8f0915-b464-4149-f435-56049df442db"
      },
      "source": [
        "lower=int(input(\"Enter lower range limit:\"))\n",
        "upper=int(input(\"Enter upper range limit:\"))\n",
        "n=int(input(\"Enter the number to be divided by:\"))\n",
        "for i in range(lower,upper+1):\n",
        "    if(i%n==0):\n",
        "        print(i)\n",
        "\n"
      ],
      "execution_count": 5,
      "outputs": [
        {
          "output_type": "stream",
          "text": [
            "Enter lower range limit:10\n",
            "Enter upper range limit:20\n",
            "Enter the number to be divided by:5\n",
            "10\n",
            "15\n",
            "20\n"
          ],
          "name": "stdout"
        }
      ]
    },
    {
      "cell_type": "code",
      "metadata": {
        "id": "HLKP_eEnFxBA",
        "colab_type": "code",
        "colab": {}
      },
      "source": [
        ""
      ],
      "execution_count": 0,
      "outputs": []
    },
    {
      "cell_type": "markdown",
      "metadata": {
        "id": "W17kvstFHaa8",
        "colab_type": "text"
      },
      "source": [
        "Get  a string and store word by word as elements in a tuple and find the largest word in the  tuple and print it"
      ]
    },
    {
      "cell_type": "code",
      "metadata": {
        "id": "k5yAK25zHf_5",
        "colab_type": "code",
        "colab": {
          "base_uri": "https://localhost:8080/",
          "height": 153
        },
        "outputId": "2b192df1-6a4f-4110-9555-087b050cc33d"
      },
      "source": [
        "a=[]\n",
        "n= int(input(\"Enter the number of elements in list:\"))\n",
        "for x in range(0,n):\n",
        "    element=input(\"Enter element\" + str(x+1) + \":\")\n",
        "    a.append(element)\n",
        "max1=len(a[0])\n",
        "temp=a[0]\n",
        "for i in a:\n",
        "    if(len(i)>max1):\n",
        "       max1=len(i)\n",
        "       temp=i\n",
        "print(\"The word with the longest length is:\")\n",
        "print(temp)"
      ],
      "execution_count": 8,
      "outputs": [
        {
          "output_type": "stream",
          "text": [
            "Enter the number of elements in list:5\n",
            "Enter element1:2\n",
            "Enter element2:4\n",
            "Enter element3:6\n",
            "Enter element4:56\n",
            "Enter element5:78\n",
            "The word with the longest length is:\n",
            "56\n"
          ],
          "name": "stdout"
        }
      ]
    },
    {
      "cell_type": "markdown",
      "metadata": {
        "id": "D2T9taCxH60Y",
        "colab_type": "text"
      },
      "source": [
        "Get rollno and marks (Rollno, mark) as list of tuples for n number of students through keyboard  and print them in marks descending order with rollno.\n",
        "\n"
      ]
    },
    {
      "cell_type": "code",
      "metadata": {
        "id": "CA2y_JWJHlTp",
        "colab_type": "code",
        "colab": {}
      },
      "source": [
        ""
      ],
      "execution_count": 0,
      "outputs": []
    },
    {
      "cell_type": "code",
      "metadata": {
        "id": "cHVeU8UMIJRL",
        "colab_type": "code",
        "colab": {}
      },
      "source": [
        ""
      ],
      "execution_count": 0,
      "outputs": []
    },
    {
      "cell_type": "code",
      "metadata": {
        "id": "h4cgPZZVIR0S",
        "colab_type": "code",
        "colab": {
          "base_uri": "https://localhost:8080/",
          "height": 119
        },
        "outputId": "146722da-3715-4256-88f9-b67c95743ae9"
      },
      "source": [
        "print(sorted([(input(\"Enter rollno: \"), input(\"Enter marks: \")) for i in range(int(input(\"Enter number of students\")))], key=lambda x: x[1],reverse=True))"
      ],
      "execution_count": 10,
      "outputs": [
        {
          "output_type": "stream",
          "text": [
            "Enter number of students2\n",
            "Enter rollno: 100\n",
            "Enter marks: 50\n",
            "Enter rollno: 200\n",
            "Enter marks: 60\n",
            "[('200', '60'), ('100', '50')]\n"
          ],
          "name": "stdout"
        }
      ]
    },
    {
      "cell_type": "code",
      "metadata": {
        "id": "_yHsu8EwISwV",
        "colab_type": "code",
        "colab": {}
      },
      "source": [
        ""
      ],
      "execution_count": 0,
      "outputs": []
    },
    {
      "cell_type": "markdown",
      "metadata": {
        "id": "WxyuHGwoIbG-",
        "colab_type": "text"
      },
      "source": [
        "Get name and salary (name, salary) as list of tuples for n number of employees through keyboard  and print them in name alphabetical order with salary\n",
        "\n"
      ]
    },
    {
      "cell_type": "code",
      "metadata": {
        "id": "ROHRS7JdIeAs",
        "colab_type": "code",
        "colab": {}
      },
      "source": [
        ""
      ],
      "execution_count": 0,
      "outputs": []
    },
    {
      "cell_type": "code",
      "metadata": {
        "id": "SUtF1XQxIe5s",
        "colab_type": "code",
        "colab": {
          "base_uri": "https://localhost:8080/",
          "height": 119
        },
        "outputId": "dff9935b-c338-4302-81c8-73c54a9ca962"
      },
      "source": [
        "print(sorted([(input(\"Enter name: \"), input(\"Enter salary: \")) for i in range(int(input(\"Enter number of employees\")))], key=lambda x: x[0]))"
      ],
      "execution_count": 11,
      "outputs": [
        {
          "output_type": "stream",
          "text": [
            "Enter number of employees2\n",
            "Enter name: anu\n",
            "Enter salary: 300\n",
            "Enter name: sanu\n",
            "Enter salary: 400\n",
            "[('anu', '300'), ('sanu', '400')]\n"
          ],
          "name": "stdout"
        }
      ]
    },
    {
      "cell_type": "code",
      "metadata": {
        "id": "6Q6k66LeIiZB",
        "colab_type": "code",
        "colab": {}
      },
      "source": [
        ""
      ],
      "execution_count": 0,
      "outputs": []
    }
  ]
}